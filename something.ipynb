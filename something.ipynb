{
 "cells": [
  {
   "cell_type": "code",
   "execution_count": null,
   "metadata": {},
   "outputs": [],
   "source": [
    "name = input(\"Please enter your name: \")\n",
    "y = \"Y\"\n",
    "n = \"N\"\n",
    "\n",
    "hat = input(\"\\nAre you wearing a hat?\\nEnter Y or N: \")\n",
    "while hat != y and hat != n:\n",
    "    hat = input(\"\\nAre you wearing a hat?\\nEnter Y or N: \")\n",
    "if hat == y:\n",
    "    hatType = input(\"What kind of hat\")\n",
    "    print(f\"Nice {hatType} you got there {name}!\")\n",
    "if hat == n:\n",
    "    print(\"We recommend you try a : \\n fedora \\n baseball cap \\n straw hat \\n maybe even a billycock!\")\n"
   ]
  },
  {
   "cell_type": "code",
   "execution_count": null,
   "metadata": {},
   "outputs": [],
   "source": []
  }
 ],
 "metadata": {
  "kernelspec": {
   "display_name": "Python 3",
   "language": "python",
   "name": "python3"
  },
  "language_info": {
   "codemirror_mode": {
    "name": "ipython",
    "version": 3
   },
   "file_extension": ".py",
   "mimetype": "text/x-python",
   "name": "python",
   "nbconvert_exporter": "python",
   "pygments_lexer": "ipython3",
   "version": "3.11.5"
  }
 },
 "nbformat": 4,
 "nbformat_minor": 4
}
